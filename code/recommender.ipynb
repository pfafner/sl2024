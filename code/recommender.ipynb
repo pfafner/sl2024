{
 "cells": [
  {
   "cell_type": "markdown",
   "id": "d34efc74-77a2-42fb-ba80-ab8bd19cf7e6",
   "metadata": {},
   "source": [
    "# **Aprendizaje Estadístico 2024** <font size=4 color='gray'>Alan Reyes-Figueroa</font>\n",
    "#### <font color='gray'>Factoración NNMF</font>"
   ]
  },
  {
   "cell_type": "code",
   "execution_count": null,
   "id": "cdac5848-bd13-4b2b-9555-1798f4c65fbb",
   "metadata": {},
   "outputs": [],
   "source": [
    "import numpy as np\n",
    "import pandas as pd\n",
    "\n",
    "import matplotlib.pyplot as plt\n",
    "import seaborn as sns\n",
    "\n",
    "from sklearn.decomposition import PCA, NMF\n",
    "from sklearn.metrics.pairwise import cosine_similarity"
   ]
  },
  {
   "cell_type": "code",
   "execution_count": null,
   "id": "a37f1da1-bfcb-4040-9f6c-863b945a1e50",
   "metadata": {},
   "outputs": [],
   "source": []
  },
  {
   "cell_type": "markdown",
   "id": "d6c4d22f-8f41-415e-a7b8-eb266c752442",
   "metadata": {},
   "source": [
    "# Data"
   ]
  },
  {
   "cell_type": "code",
   "execution_count": null,
   "id": "72f0f209-60cb-48e2-9e88-1163b08953d0",
   "metadata": {},
   "outputs": [],
   "source": [
    "ratings = pd.read_csv('ratings.csv', header=0, sep=',')\n",
    "ratings.shape"
   ]
  },
  {
   "cell_type": "code",
   "execution_count": null,
   "id": "3a5a633f-b935-4a5e-8a90-b6f2642150e5",
   "metadata": {},
   "outputs": [],
   "source": [
    "movies = pd.read_csv('movies.csv', header=0, sep=',')\n",
    "movies.shape"
   ]
  },
  {
   "cell_type": "code",
   "execution_count": null,
   "id": "ed463396-4de7-4249-93c2-efa22f65a713",
   "metadata": {},
   "outputs": [],
   "source": [
    "ratings.head()"
   ]
  },
  {
   "cell_type": "code",
   "execution_count": null,
   "id": "d68d5a27-341c-4898-8a2e-adb1f69154a6",
   "metadata": {},
   "outputs": [],
   "source": [
    "movies.head()"
   ]
  },
  {
   "cell_type": "code",
   "execution_count": null,
   "id": "55509d00-b9a1-4281-a70b-f8eca64f29cb",
   "metadata": {},
   "outputs": [],
   "source": [
    "table = pd.pivot_table(ratings, index='userId', columns='movieId', values='rating', fill_value=0)\n",
    "table = table.astype(int)"
   ]
  },
  {
   "cell_type": "code",
   "execution_count": null,
   "id": "49308389-2193-4153-8f5b-a3b461b95d7c",
   "metadata": {},
   "outputs": [],
   "source": [
    "table.shape"
   ]
  },
  {
   "cell_type": "code",
   "execution_count": null,
   "id": "066f282d-6990-4cbf-9131-252dcb055303",
   "metadata": {},
   "outputs": [],
   "source": [
    "table.head()"
   ]
  },
  {
   "cell_type": "code",
   "execution_count": null,
   "id": "e0ef7da1-e08e-4766-b8cb-e01afd86426c",
   "metadata": {},
   "outputs": [],
   "source": [
    "X = table.values\n",
    "X.shape"
   ]
  },
  {
   "cell_type": "code",
   "execution_count": null,
   "id": "08d331dc-730e-4154-85da-0be74c22e619",
   "metadata": {},
   "outputs": [],
   "source": [
    "plt.figure(figsize=(15,6))\n",
    "plt.imshow(X, vmin=0, vmax=5)\n",
    "plt.title('Ratings Table')\n",
    "plt.ylabel('Users')\n",
    "plt.xlabel('Movies')\n",
    "plt.show()"
   ]
  },
  {
   "cell_type": "code",
   "execution_count": null,
   "id": "b4f47b4b-06b3-42e8-986f-df59d3ac287a",
   "metadata": {},
   "outputs": [],
   "source": []
  },
  {
   "cell_type": "code",
   "execution_count": null,
   "id": "2e591879-15fc-4742-a9c2-17a983f3a11f",
   "metadata": {},
   "outputs": [],
   "source": [
    "n_ratings = len(ratings)\n",
    "n_movies = len(ratings['movieId'].unique())\n",
    "n_users = len(ratings['userId'].unique())\n",
    " \n",
    "print(f\"Number of ratings: {n_ratings}\")\n",
    "print(f\"Number of unique movieId's: {n_movies}\")\n",
    "print(f\"Number of unique users: {n_users}\")\n",
    "print(f\"Average ratings per user: {round(n_ratings/n_users, 2)}\")\n",
    "print(f\"Average ratings per movie: {round(n_ratings/n_movies, 2)}\")"
   ]
  },
  {
   "cell_type": "code",
   "execution_count": null,
   "id": "53e45eeb-cad4-4c1e-a2e9-5957d0c15526",
   "metadata": {},
   "outputs": [],
   "source": [
    "user_freq = ratings[['userId', 'movieId']].groupby('userId').count().reset_index()\n",
    "user_freq.columns = ['userId', 'n_ratings']"
   ]
  },
  {
   "cell_type": "code",
   "execution_count": null,
   "id": "acbf083e-647e-4cb0-9c35-fa3e5468523d",
   "metadata": {},
   "outputs": [],
   "source": [
    "user_freq.head()"
   ]
  },
  {
   "cell_type": "code",
   "execution_count": null,
   "id": "edcd8950-419d-480d-9b9c-ad053ffa1970",
   "metadata": {},
   "outputs": [],
   "source": [
    "# Find Lowest and Highest rated movies:\n",
    "mean_rating = ratings.groupby('movieId')[['rating']].mean()"
   ]
  },
  {
   "cell_type": "code",
   "execution_count": null,
   "id": "fd91a039-dadb-401c-a60a-2a110101c948",
   "metadata": {},
   "outputs": [],
   "source": [
    "mean_rating.head()"
   ]
  },
  {
   "cell_type": "code",
   "execution_count": null,
   "id": "86fc84c6-615f-44fe-b1af-c232d68ddad0",
   "metadata": {},
   "outputs": [],
   "source": [
    "# Lowest rated movies\n",
    "lowest_rated = mean_rating['rating'].idxmin()\n",
    "movies.loc[movies['movieId'] == lowest_rated]"
   ]
  },
  {
   "cell_type": "code",
   "execution_count": null,
   "id": "358f4cc2-15c8-4da1-8ff6-49876cacfa78",
   "metadata": {},
   "outputs": [],
   "source": [
    "\n",
    "# Highest rated movies\n",
    "highest_rated = mean_rating['rating'].idxmax()\n",
    "movies.loc[movies['movieId'] == highest_rated]"
   ]
  },
  {
   "cell_type": "code",
   "execution_count": null,
   "id": "3835d664-c74a-4267-abb2-b797bfcd2b9f",
   "metadata": {},
   "outputs": [],
   "source": [
    "# show number of people who rated movies rated movie highest\n",
    "ratings[ratings['movieId']==highest_rated]"
   ]
  },
  {
   "cell_type": "code",
   "execution_count": null,
   "id": "a1e1902d-5194-41f2-b096-1ade24a72174",
   "metadata": {},
   "outputs": [],
   "source": [
    "# show number of people who rated movies rated movie lowest\n",
    "ratings[ratings['movieId']==lowest_rated]"
   ]
  },
  {
   "cell_type": "code",
   "execution_count": null,
   "id": "b978ce66-1af5-43c6-81b6-7ba01d110d82",
   "metadata": {},
   "outputs": [],
   "source": [
    "## the above movies has very low dataset. We will use bayesian average\n",
    "movie_stats = ratings.groupby('movieId')[['rating']].agg(['count', 'mean'])"
   ]
  },
  {
   "cell_type": "code",
   "execution_count": null,
   "id": "5f3f4aaf-35de-4b06-94cd-83a3da3e91a2",
   "metadata": {},
   "outputs": [],
   "source": [
    "movie_stats.head()"
   ]
  },
  {
   "cell_type": "code",
   "execution_count": null,
   "id": "a38e2314-d0f8-489d-88ff-2be8a92c07e1",
   "metadata": {},
   "outputs": [],
   "source": [
    "movie_stats.columns = movie_stats.columns.droplevel()"
   ]
  },
  {
   "cell_type": "code",
   "execution_count": null,
   "id": "a0ea308f-1802-4026-9312-b971ad0f8672",
   "metadata": {},
   "outputs": [],
   "source": [
    "movie_stats.head()"
   ]
  },
  {
   "cell_type": "code",
   "execution_count": null,
   "id": "f083909a-d4f0-42d0-852c-676f6e19a3ab",
   "metadata": {},
   "outputs": [],
   "source": [
    "movie_stats = movie_stats.sort_values(by=['count', 'mean'], ascending=False)"
   ]
  },
  {
   "cell_type": "code",
   "execution_count": null,
   "id": "34dda9d7-13c4-432a-a91c-9a51fe37cf9f",
   "metadata": {},
   "outputs": [],
   "source": [
    "movie_stats.iloc[1049,:]"
   ]
  },
  {
   "cell_type": "code",
   "execution_count": null,
   "id": "9e03f924-6fb7-4870-8aae-cb4c4df66d33",
   "metadata": {},
   "outputs": [],
   "source": []
  },
  {
   "cell_type": "markdown",
   "id": "0029f8c7-b04b-48e4-ae8a-afd5a6ffd73e",
   "metadata": {},
   "source": [
    "### Select movies with more rating"
   ]
  },
  {
   "cell_type": "code",
   "execution_count": null,
   "id": "d08e6fb7-e9ff-488b-b884-6ba9fcd6fc94",
   "metadata": {},
   "outputs": [],
   "source": [
    "cut = 25\n",
    "movies_sample = movie_stats[movie_stats['count'] >= cut]"
   ]
  },
  {
   "cell_type": "code",
   "execution_count": null,
   "id": "eb31f01c-0561-4b6b-bca6-10c0ec472827",
   "metadata": {},
   "outputs": [],
   "source": [
    "lista = list(movies_sample.index)"
   ]
  },
  {
   "cell_type": "code",
   "execution_count": null,
   "id": "1a983ca7-070f-4b0b-9ed3-713fff0db3cf",
   "metadata": {},
   "outputs": [],
   "source": []
  },
  {
   "cell_type": "code",
   "execution_count": null,
   "id": "aac34556-9990-4229-bf2b-ec96df633d77",
   "metadata": {},
   "outputs": [],
   "source": [
    "ratnumber = (X > 0).sum(0)\n",
    "idX = np.argsort(ratnumber)[::-1]"
   ]
  },
  {
   "cell_type": "code",
   "execution_count": null,
   "id": "de8f907d-a17f-4395-b5e4-a6214f3b0497",
   "metadata": {},
   "outputs": [],
   "source": [
    "plt.figure()\n",
    "sns.displot(np.log10(1.+ratnumber), kde=True)\n",
    "plt.show()"
   ]
  },
  {
   "cell_type": "code",
   "execution_count": null,
   "id": "69a3221d-4073-4ce4-8b86-74a61da13e9e",
   "metadata": {},
   "outputs": [],
   "source": [
    "plt.figure()\n",
    "plt.plot(ratnumber[idX])\n",
    "plt.show()"
   ]
  },
  {
   "cell_type": "code",
   "execution_count": null,
   "id": "5b154c50-edd5-41e5-a736-2d97554a0314",
   "metadata": {},
   "outputs": [],
   "source": []
  },
  {
   "cell_type": "code",
   "execution_count": null,
   "id": "7c909a70-5028-4b65-86c3-596bf63b32ea",
   "metadata": {},
   "outputs": [],
   "source": [
    "# Select top 1050 movies (with more number of ratings)\n",
    "\n",
    "#df_sample = pd.DataFrame(data=ratings, index=table.index, columns=table.columns[lista])\n",
    "\n",
    "df = table[[x for x in movies_sample.index]]\n",
    "Xs = df.values\n",
    "\n",
    "#selection = [x for x in ratnumber[idX[:1000]]]\n",
    "#df_sample = table.iloc[:, selection]\n",
    "#X_sample =  df_sample.values\n",
    "\n",
    "print(df.shape, Xs.shape)"
   ]
  },
  {
   "cell_type": "code",
   "execution_count": null,
   "id": "744df461-e2d2-4518-ae9b-33a1e4613dff",
   "metadata": {},
   "outputs": [],
   "source": [
    "df.head()"
   ]
  },
  {
   "cell_type": "code",
   "execution_count": null,
   "id": "0eaf0c39-56a3-430e-bd2d-ef3b92953ea9",
   "metadata": {},
   "outputs": [],
   "source": [
    "plt.figure(figsize=(15,5))\n",
    "plt.imshow(Xs, vmin=0, vmax=5)\n",
    "plt.title('Sampled Ratings Table')\n",
    "plt.ylabel('Users')\n",
    "plt.xlabel('Movies')\n",
    "plt.show()"
   ]
  },
  {
   "cell_type": "markdown",
   "id": "a9bcbddc-5507-4033-a4eb-4ec93d188d94",
   "metadata": {},
   "source": [
    "### Lista de Categorías"
   ]
  },
  {
   "cell_type": "code",
   "execution_count": null,
   "id": "1d36b8cb-f633-4ef4-a398-4fd4853b3d3a",
   "metadata": {},
   "outputs": [],
   "source": [
    "genres = movies['genres']"
   ]
  },
  {
   "cell_type": "code",
   "execution_count": null,
   "id": "1f229cc5-65c1-41c0-baf2-718b9bee0a13",
   "metadata": {},
   "outputs": [],
   "source": [
    "len(genres)"
   ]
  },
  {
   "cell_type": "code",
   "execution_count": null,
   "id": "3890a61c-9a60-4e99-818b-30eb0e8c57f5",
   "metadata": {},
   "outputs": [],
   "source": [
    "genres[0].split('|')"
   ]
  },
  {
   "cell_type": "code",
   "execution_count": null,
   "id": "1dff78de-865c-48fb-94de-09e7ebc6b9e4",
   "metadata": {},
   "outputs": [],
   "source": [
    "cat = []\n",
    "for i in range(0, len(genres)):\n",
    "    gen = genres[i].split('|')\n",
    "    for g in gen:\n",
    "        if g not in cat: \n",
    "            cat.append(g)"
   ]
  },
  {
   "cell_type": "code",
   "execution_count": null,
   "id": "8e171836-09e1-4398-8b62-47a094001fab",
   "metadata": {},
   "outputs": [],
   "source": [
    "print(cat)"
   ]
  },
  {
   "cell_type": "code",
   "execution_count": null,
   "id": "94b2354e-b567-4a99-9569-8feb0292bf05",
   "metadata": {},
   "outputs": [],
   "source": []
  },
  {
   "cell_type": "markdown",
   "id": "18d83f7c-479f-4095-9e9d-a1884405ab14",
   "metadata": {},
   "source": [
    "# NNMF Factorization"
   ]
  },
  {
   "cell_type": "code",
   "execution_count": null,
   "id": "4d500909-822d-4813-80db-b9b425c9e310",
   "metadata": {},
   "outputs": [],
   "source": [
    "k = 20"
   ]
  },
  {
   "cell_type": "code",
   "execution_count": null,
   "id": "85c1c5ec-a181-47d6-a0d5-6211fe7e7816",
   "metadata": {},
   "outputs": [],
   "source": [
    "model = NMF(n_components=k, init='random', max_iter=500, random_state=2024)\n",
    "\n",
    "W = model.fit_transform(Xs)\n",
    "H = model.components_"
   ]
  },
  {
   "cell_type": "code",
   "execution_count": null,
   "id": "ebcdbb14-dcbe-40d8-a6ab-c755a86fecda",
   "metadata": {},
   "outputs": [],
   "source": [
    "print(W.shape, H.shape)"
   ]
  },
  {
   "cell_type": "code",
   "execution_count": null,
   "id": "59b24758-f9ee-42d7-984c-058227b0001d",
   "metadata": {},
   "outputs": [],
   "source": [
    "plt.figure(figsize=(15,5))\n",
    "plt.imshow(W, vmin=0, vmax=5)\n",
    "plt.title('W')\n",
    "plt.ylabel('Users')\n",
    "plt.xlabel('Cat')\n",
    "plt.show()"
   ]
  },
  {
   "cell_type": "code",
   "execution_count": null,
   "id": "5f6027cb-3d8a-4870-af69-125803d944f2",
   "metadata": {},
   "outputs": [],
   "source": [
    "plt.figure(figsize=(15,5))\n",
    "plt.imshow(H, vmin=0, vmax=5)\n",
    "plt.title('H')\n",
    "plt.ylabel('Cat')\n",
    "plt.xlabel('Movies')\n",
    "plt.show()"
   ]
  },
  {
   "cell_type": "code",
   "execution_count": null,
   "id": "5a0b9504-75b6-4c4f-85a8-7239bf4b9877",
   "metadata": {},
   "outputs": [],
   "source": [
    "plt.figure(figsize=(12,12))\n",
    "plt.subplot(1,2,1)\n",
    "plt.imshow(W[:25,:], vmin=0, vmax=5)\n",
    "plt.title('W')\n",
    "plt.ylabel('Users 0-24')\n",
    "plt.xlabel('Cat')\n",
    "plt.subplot(1,2,2)\n",
    "plt.imshow(W[25:50,:], vmin=0, vmax=5)\n",
    "plt.title('W')\n",
    "plt.ylabel('Users 25-49')\n",
    "plt.xlabel('Cat')\n",
    "plt.show()"
   ]
  },
  {
   "cell_type": "code",
   "execution_count": null,
   "id": "1e4a9acf-f614-4412-a3ba-d66a9a34f0a9",
   "metadata": {},
   "outputs": [],
   "source": [
    "# Top categorías para el userId 20\n",
    "user = 20\n",
    "np.argsort(W[user])[::-1]"
   ]
  },
  {
   "cell_type": "code",
   "execution_count": null,
   "id": "008d3f68-6d1b-4f45-8042-fdc6e6ce7ade",
   "metadata": {},
   "outputs": [],
   "source": [
    "# top 10 de la categoría 1\n",
    "row = 1\n",
    "top = np.argsort(H[row])[::-1][:10]\n",
    "top"
   ]
  },
  {
   "cell_type": "code",
   "execution_count": null,
   "id": "90a92e87-d37f-4de6-95f5-496c39006bfa",
   "metadata": {},
   "outputs": [],
   "source": [
    "# MovieIds de las top 10\n",
    "print(df.columns[top])"
   ]
  },
  {
   "cell_type": "code",
   "execution_count": null,
   "id": "87e249ab-5e87-4142-954b-a3245df30a6c",
   "metadata": {},
   "outputs": [],
   "source": [
    "# Top 10 de la categoría\n",
    "movies[movies['movieId'].isin(df.columns[top])]"
   ]
  },
  {
   "cell_type": "code",
   "execution_count": null,
   "id": "17be12ab-4a79-4e9a-8787-832ee6f569c1",
   "metadata": {},
   "outputs": [],
   "source": []
  },
  {
   "cell_type": "markdown",
   "id": "e2ce567e-fc7e-42a5-b4fe-e207e241c121",
   "metadata": {},
   "source": [
    "# Sistema de Recomendación"
   ]
  },
  {
   "cell_type": "markdown",
   "id": "a4d2e8b9-4109-4b5d-990a-f18e4d5bf61e",
   "metadata": {},
   "source": [
    "**Ejercicio:** Construir un sistema de recomendación a partir de la factoración NNMF.\n",
    "\n",
    "Con base en las matrices **df**, **W**, **H**, **movies**, se debe construir una función *recommender* de reciba como inputs:\n",
    "\n",
    "* UserId   = el código del usuario (tomando como base los index de **df**).\n",
    "\n",
    "* TopNeigh = número de usuarios vecinos a considerar.\n",
    "\n",
    "* TopMov   = número de películas a recomendar.\n",
    "\n",
    "La función debe devolver la lista o el DataFrame de las películas en la tabla **movies** que el usuario no haya visto, y que su sistema considere que son las más idóneas para el usuario."
   ]
  },
  {
   "cell_type": "code",
   "execution_count": null,
   "id": "177fc7f4-30ab-440a-8921-bb333506a5c9",
   "metadata": {},
   "outputs": [],
   "source": [
    "def recommender(userId, topNeigh=10, topMov=10):\n",
    "    \n",
    "    return recommendations"
   ]
  },
  {
   "cell_type": "code",
   "execution_count": null,
   "id": "71bb3106-1113-49f6-8111-3c255842219a",
   "metadata": {},
   "outputs": [],
   "source": []
  }
 ],
 "metadata": {
  "kernelspec": {
   "display_name": "Python 3 (ipykernel)",
   "language": "python",
   "name": "python3"
  },
  "language_info": {
   "codemirror_mode": {
    "name": "ipython",
    "version": 3
   },
   "file_extension": ".py",
   "mimetype": "text/x-python",
   "name": "python",
   "nbconvert_exporter": "python",
   "pygments_lexer": "ipython3",
   "version": "3.10.9"
  }
 },
 "nbformat": 4,
 "nbformat_minor": 5
}
